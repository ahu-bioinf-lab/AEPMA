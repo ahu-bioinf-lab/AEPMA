{
 "cells": [
  {
   "cell_type": "markdown",
   "id": "630710dd75147656",
   "metadata": {},
   "source": [
    "# Data Preprocessing and Matrix Generation\n",
    "\n",
    "This notebook preprocesses data and generates various matrices related to peptides, microbes, and diseases. The following steps are performed:\n",
    "\n",
    "1. Loading data files.\n",
    "2. Constructing node types and saving them.\n",
    "3. Generating positive and negative pairs.\n",
    "4. Creating adjacency matrices for various relations (peptide-microbe, microbe-disease, peptide-peptide, microbe-microbe, disease-disease).\n",
    "5. Saving the processed data.\n",
    "### Step 1: Load Data Files"
   ]
  },
  {
   "cell_type": "markdown",
   "id": "4860cced748b0437",
   "metadata": {},
   "source": []
  },
  {
   "metadata": {
    "ExecuteTime": {
     "end_time": "2025-04-29T13:47:56.224074Z",
     "start_time": "2025-04-29T13:47:55.763618Z"
    }
   },
   "cell_type": "code",
   "source": [
    "import pandas as pd\n",
    "import numpy as np\n",
    "import os\n",
    "import scipy.sparse as sp\n",
    "import pickle\n",
    "\n",
    "# Define file paths\n",
    "prefix = \"./aBiofilm\"\n",
    "\n",
    "# Load the data\n",
    "pm = pd.read_csv(os.path.join(prefix, \"adj.dat\"), encoding='utf-8', delimiter=',',\n",
    "                 names=['pid', 'mid', 'rating']).reset_index(drop=True)\n",
    "pp = pd.read_csv(os.path.join(prefix, \"drugsimilarity.dat\"), encoding='utf-8', delimiter=',',\n",
    "                 names=['p1', 'p2', 'weight']).reset_index(drop=True)\n",
    "mm = pd.read_csv(os.path.join(prefix, \"microbesimilarity.dat\"), encoding='utf-8', delimiter=',',\n",
    "                 names=['m1', 'm2', 'weight']).reset_index(drop=True)\n",
    "\n",
    "# The original dataset uses 1-based indexing, so we subtract 1 from all indices to convert them to 0-based indexing.\n",
    "pm[['pid', 'mid']] = pm[['pid', 'mid']] - 1\n",
    "pp[['p1', 'p2']] = pp[['p1', 'p2']] - 1\n",
    "mm[['m1', 'm2']] = mm[['m1', 'm2']] - 1\n",
    "\n",
    "print('==========Step 1 complete==========')"
   ],
   "id": "1af770e991a364b",
   "outputs": [
    {
     "name": "stdout",
     "output_type": "stream",
     "text": [
      "==========Step 1 complete==========\n"
     ]
    }
   ],
   "execution_count": 27
  },
  {
   "metadata": {
    "ExecuteTime": {
     "end_time": "2025-04-29T13:47:56.239479Z",
     "start_time": "2025-04-29T13:47:56.226373Z"
    }
   },
   "cell_type": "code",
   "source": "",
   "id": "47c0f1575ce7153e",
   "outputs": [],
   "execution_count": 27
  },
  {
   "metadata": {},
   "cell_type": "markdown",
   "source": "Step 2: Construct Node Types",
   "id": "b81f054f3094c0a8"
  },
  {
   "metadata": {
    "ExecuteTime": {
     "end_time": "2025-04-29T13:47:56.254757Z",
     "start_time": "2025-04-29T13:47:56.241974Z"
    }
   },
   "cell_type": "code",
   "source": [
    "# Set offsets for node types\n",
    "max_pid = pm['pid'].max() + 1\n",
    "print(max_pid)\n",
    "max_mid = pm['mid'].max() + 1\n",
    "print(max_mid)\n",
    "\n",
    "offsets = {'p': max_pid, 'm': max_pid + max_mid}\n",
    "# Initialize node types array\n",
    "node_types = np.zeros((offsets['m'],), dtype=np.int32)\n",
    "node_types[offsets['p']:] = 1\n",
    "\n",
    "# Save node types to file\n",
    "if not os.path.exists(\"../preprocessed/node_types.npy\"):\n",
    "    np.save(\"../preprocessed/node_types\", node_types)\n",
    "print('==========Step 2 complete==========')"
   ],
   "id": "d219c6cd6d39a438",
   "outputs": [
    {
     "name": "stdout",
     "output_type": "stream",
     "text": [
      "1720\n",
      "140\n",
      "==========Step 2 complete==========\n"
     ]
    }
   ],
   "execution_count": 28
  },
  {
   "metadata": {},
   "cell_type": "markdown",
   "source": "Step 3: Generate Positive and Negative Pairs",
   "id": "aa913dd9b2aa50c"
  },
  {
   "metadata": {
    "ExecuteTime": {
     "end_time": "2025-04-29T13:47:56.270047Z",
     "start_time": "2025-04-29T13:47:56.257331Z"
    }
   },
   "cell_type": "code",
   "source": [
    "# Generate positive pairs\n",
    "pm_pos = pm[pm['rating'] == 1].to_numpy()[:, :2]\n",
    "pm_pos[:, 1] += offsets['p']\n",
    "\n",
    "# Generate negative pairs\n",
    "neg_ratings = pm[pm['rating'] == 0].to_numpy()[:, :2]\n",
    "neg_ratings[:, 1] += offsets['p']\n",
    "assert (pm_pos.shape[0] + neg_ratings.shape[0] == pm.shape[0])\n",
    "\n",
    "# Shuffle and select negative pairs\n",
    "indices_neg = np.arange(neg_ratings.shape[0])\n",
    "np.random.shuffle(indices_neg)\n",
    "indices_neg = indices_neg[:pm_pos.shape[0] * 1]\n",
    "neg_data = neg_ratings[indices_neg]\n",
    "np.savez(\"../preprocessed/neg_pairs_offset\", neg_data=neg_data)\n",
    "\n",
    "# Shuffle positive pairs\n",
    "indices = np.arange(pm_pos.shape[0])\n",
    "np.random.shuffle(indices)\n",
    "pos_data = pm_pos[indices]\n",
    "np.savez(\"../preprocessed/pos_pairs_offset\", pos_data=pos_data)\n",
    "print('==========Step 3 complete==========')"
   ],
   "id": "f3adf84d1a8a7d83",
   "outputs": [
    {
     "name": "stdout",
     "output_type": "stream",
     "text": [
      "==========Step 3 complete==========\n"
     ]
    }
   ],
   "execution_count": 29
  },
  {
   "metadata": {},
   "cell_type": "markdown",
   "source": [
    "Step 4: Create Adjacency Matrices\n",
    "\n",
    "Drug-Microbe Relation"
   ],
   "id": "94d70d6efd01ded5"
  },
  {
   "metadata": {
    "ExecuteTime": {
     "end_time": "2025-04-29T13:47:56.316968Z",
     "start_time": "2025-04-29T13:47:56.271044Z"
    }
   },
   "cell_type": "code",
   "source": [
    "# Create adjacency matrix for drug-microbe relation\n",
    "adj_offset = np.zeros((node_types.shape[0], node_types.shape[0]), dtype=np.float32)\n",
    "adj_offset[pm_pos[:, 0], pm_pos[:, 1]] = 1\n",
    "adjs_offset = {'0': sp.coo_matrix(adj_offset)}\n"
   ],
   "id": "96f25659886194bf",
   "outputs": [],
   "execution_count": 30
  },
  {
   "metadata": {},
   "cell_type": "markdown",
   "source": "Drug-Drug Relation",
   "id": "76db1cc390eb7e0"
  },
  {
   "cell_type": "code",
   "id": "eef476c2952194d2",
   "metadata": {
    "ExecuteTime": {
     "end_time": "2025-04-29T13:47:58.593508Z",
     "start_time": "2025-04-29T13:47:56.319221Z"
    }
   },
   "source": [
    "# Create adjacency matrix for peptide-peptide relation\n",
    "pp_npy = pp.to_numpy(int)[:, :2]\n",
    "pp_matrix = np.zeros((max_pid, max_pid), dtype=float)\n",
    "pp_score = pp['weight'].tolist()\n",
    "adj_offset = np.zeros((node_types.shape[0], node_types.shape[0]), dtype=np.float32)\n",
    "for i, j, k in zip(pp_npy[:, 0], pp_npy[:, 1], pp_score):\n",
    "    adj_offset[i, j] = k\n",
    "    pp_matrix[i, j] = k\n",
    "    adj_offset[j, i] = k\n",
    "    pp_matrix[j, i] = k\n",
    "adjs_offset['2'] = sp.coo_matrix(adj_offset)\n"
   ],
   "outputs": [],
   "execution_count": 31
  },
  {
   "cell_type": "markdown",
   "id": "685b76bcb371f3fa",
   "metadata": {},
   "source": [
    "Microbe-Microbe Relation"
   ]
  },
  {
   "cell_type": "code",
   "id": "95f8eee187cfdbf4",
   "metadata": {
    "ExecuteTime": {
     "end_time": "2025-04-29T13:47:58.639897Z",
     "start_time": "2025-04-29T13:47:58.595792Z"
    }
   },
   "source": [
    "# Create adjacency matrix for microbe-microbe relation\n",
    "mm_npy = mm.to_numpy(int)[:, :2]\n",
    "mm_matrix = np.zeros((max_mid, max_mid), dtype=float)\n",
    "mm_score = mm['weight'].tolist()\n",
    "adj_offset = np.zeros((node_types.shape[0], node_types.shape[0]), dtype=np.float32)\n",
    "for i, j, k in zip(mm_npy[:, 0] + offsets['p'], mm_npy[:, 1] + offsets['p'], mm_score):\n",
    "    adj_offset[i, j] = k\n",
    "    mm_matrix[i - offsets['p'], j - offsets['p']] = k\n",
    "adjs_offset['3'] = sp.coo_matrix(adj_offset)\n",
    "print('==========Step 4 complete==========')"
   ],
   "outputs": [
    {
     "name": "stdout",
     "output_type": "stream",
     "text": [
      "==========Step 4 complete==========\n"
     ]
    }
   ],
   "execution_count": 32
  },
  {
   "cell_type": "markdown",
   "id": "eaf39b1c2bc5575f",
   "metadata": {},
   "source": [
    "Step 5: Save the Processed Data"
   ]
  },
  {
   "cell_type": "code",
   "id": "465bee84bea2da06",
   "metadata": {
    "ExecuteTime": {
     "end_time": "2025-04-29T13:47:58.717937Z",
     "start_time": "2025-04-29T13:47:58.642981Z"
    }
   },
   "source": [
    "# Save combined matrices\n",
    "np.savez('../preprocessed/combined_matrices.npz', dp_matrix=pp_matrix, pd_matrix=mm_matrix)\n",
    "\n",
    "# Save adjacency matrices\n",
    "with open(\"../preprocessed/adjs_offset.pkl\", \"wb\") as f2:\n",
    "    pickle.dump(adjs_offset, f2)\n",
    "print('==========Step 5 complete==========')"
   ],
   "outputs": [
    {
     "name": "stdout",
     "output_type": "stream",
     "text": [
      "==========Step 5 complete==========\n"
     ]
    }
   ],
   "execution_count": 33
  }
 ],
 "metadata": {
  "kernelspec": {
   "display_name": "Python 3 (ipykernel)",
   "language": "python",
   "name": "python3"
  },
  "language_info": {
   "codemirror_mode": {
    "name": "ipython",
    "version": 3
   },
   "file_extension": ".py",
   "mimetype": "text/x-python",
   "name": "python",
   "nbconvert_exporter": "python",
   "pygments_lexer": "ipython3",
   "version": "3.10.14"
  }
 },
 "nbformat": 4,
 "nbformat_minor": 5
}
